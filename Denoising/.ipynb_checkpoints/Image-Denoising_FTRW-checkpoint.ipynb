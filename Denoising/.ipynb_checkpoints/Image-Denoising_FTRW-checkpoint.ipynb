{
 "cells": [
  {
   "cell_type": "code",
   "execution_count": 1,
   "metadata": {},
   "outputs": [],
   "source": [
    "import unittest\n",
    "from mrftools import *\n",
    "import numpy as np\n",
    "from scipy.stats import bernoulli\n",
    "import matplotlib.pyplot as plt\n",
    "import cv2"
   ]
  },
  {
   "cell_type": "code",
   "execution_count": 2,
   "metadata": {},
   "outputs": [
    {
     "data": {
      "text/plain": [
       "0.6931471805599453"
      ]
     },
     "execution_count": 2,
     "metadata": {},
     "output_type": "execute_result"
    }
   ],
   "source": [
    "# noise level 20 %\n",
    "np.log(4)/2 "
   ]
  },
  {
   "cell_type": "code",
   "execution_count": 3,
   "metadata": {},
   "outputs": [
    {
     "name": "stdout",
     "output_type": "stream",
     "text": [
      "{144, 401, 146}\n"
     ]
    }
   ],
   "source": [
    "############################# Load Image #############################################\n",
    "\n",
    "# Load the image\n",
    "img = cv2.imread('images/cameraman.jpg')\n",
    "resized_img = cv2.resize(img, (256, 256))\n",
    "\n",
    "# Convert to grayscale\n",
    "gray_img = cv2.cvtColor(resized_img, cv2.COLOR_BGR2GRAY)\n",
    "\n",
    "# Apply binary thresholding\n",
    "_, binary_img = cv2.threshold(gray_img, 127, 1, cv2.THRESH_BINARY)\n",
    "\n",
    "cv2.imwrite('binary_image.png', binary_img*255)\n",
    "binary_img.shape\n",
    "\n",
    "\n",
    "### Add noise\n",
    "def add_noise(img, flip_prob):\n",
    "    ''' Adds noise to a given binary image. Value of each pixel is flipped with given probability\n",
    "    # ARGUMENTS\n",
    "    # =========\n",
    "    # img (numpy array): image to which noise is to be added\n",
    "    # flip_prob (float \\in [0,1]): probability with which each pixel value is flipped\n",
    "    '''\n",
    "    img_noisy = np.copy(img)\n",
    "    for i in range(img_noisy.shape[0]):\n",
    "        for j in range(img_noisy.shape[1]):\n",
    "            if np.random.rand() <= flip_prob:\n",
    "                img_noisy[i][j] = 1 - img[i][j]\n",
    "    return img_noisy\n",
    "\n",
    "\n",
    "img_noise = add_noise(binary_img, flip_prob = 0.2)\n",
    "cv2.imwrite('img_noise.png', img_noise *255)\n",
    "x = binary_img.flatten()\n",
    "\n",
    "#################### Generate planar graph of size nxn #######################################################################\n",
    "n = img_noise.shape[0]\n",
    "grid_size = n**2\n",
    "y = img_noise.flatten()\n",
    "\n",
    "h = 0.7\n",
    "J = 0.35\n",
    "k = 2 #alphabet size\n",
    "\n",
    "mn = MarkovNet()\n",
    "\n",
    "for i in range(grid_size):\n",
    "    mn.set_unary_factor(i, h * np.array( [y[i], 1-y[i]] ))\n",
    "    #mn.set_unary_factor(i, np.random.rand(k) )\n",
    "\n",
    "#print(mn.variables)\n",
    "#print( mn.unary_potentials )\n",
    "\n",
    "\n",
    "for i in range(grid_size):\n",
    "    for j in range(grid_size):\n",
    "        if  j-i ==1 and j%n !=0 :\n",
    "            #print(i,j)\n",
    "            #u = np.random.uniform(0, 1, 1)[0]\n",
    "            u = J\n",
    "            mn.set_edge_factor((i, j), np.array([[ np.exp(u) , np.exp(-u)], [np.exp(-u), np.exp(u)]]) )\n",
    "        if j-i == n:\n",
    "            #print(i,j)\n",
    "            #u = np.random.uniform(0, 1, 1)[0]\n",
    "            u = J\n",
    "            mn.set_edge_factor((i, j), np.array([[ np.exp(u) , np.exp(-u)], [np.exp(-u), np.exp(u)]]) )\n",
    "\n",
    "#print(mn.variables)\n",
    "print(mn.get_neighbors(145) )\n",
    "\n",
    "\n",
    "####################### Assign Edge probabilities ###########################################################\n",
    "edge_probabilities = dict()\n",
    "\n",
    "for edge in mn.edge_potentials:\n",
    "    #edge_probabilities[edge] = np.random.uniform(0,1,1)[0]\n",
    "    #edge_probabilities[edge] = 2/grid_size # in complete graph\n",
    "    edge_probabilities[edge] = (n+1)/(2*n)  # for planar graph\n"
   ]
  },
  {
   "cell_type": "code",
   "execution_count": 4,
   "metadata": {},
   "outputs": [
    {
     "name": "stdout",
     "output_type": "stream",
     "text": [
      "Error FTRW \t 0.0 0.07452392578125\n",
      "Error FTRW \t 0.05 0.0737152099609375\n",
      "Error FTRW \t 0.1 0.072509765625\n",
      "Error FTRW \t 0.15000000000000002 0.0711822509765625\n",
      "Error FTRW \t 0.2 0.069549560546875\n",
      "Error FTRW \t 0.25 0.06829833984375\n",
      "Error FTRW \t 0.30000000000000004 0.0676422119140625\n",
      "Error FTRW \t 0.35000000000000003 0.06719970703125\n",
      "Error FTRW \t 0.4 0.06689453125\n",
      "Error FTRW \t 0.45 0.0666961669921875\n",
      "Error FTRW \t 0.5 0.0665740966796875\n",
      "Error FTRW \t 0.55 0.0665283203125\n",
      "Error FTRW \t 0.6000000000000001 0.0665283203125\n",
      "Error FTRW \t 0.65 0.0665283203125\n",
      "Error FTRW \t 0.7000000000000001 0.066497802734375\n",
      "Error FTRW \t 0.75 0.0665130615234375\n",
      "Error FTRW \t 0.8 0.0665130615234375\n",
      "Error FTRW \t 0.8500000000000001 0.0665283203125\n",
      "Error FTRW \t 0.9 0.0665283203125\n",
      "Error FTRW \t 0.9500000000000001 0.0665283203125\n",
      "Error FTRW \t 1.0 0.0665283203125\n"
     ]
    }
   ],
   "source": [
    "b = []\n",
    "tt = np.linspace(0, 1, 21)\n",
    "#tt = np.array([0.3])\n",
    "for t in tt:\n",
    "\n",
    "  for key, value in edge_probabilities.items():\n",
    "      edge_probabilities[key] = value + t * (1-value)\n",
    "\n",
    "  #print(t)\n",
    "  trbp = MatrixTRBeliefPropagator(mn, edge_probabilities)\n",
    "  trbp.infer(display='off')\n",
    "  trbp.load_beliefs() \n",
    "  z_trw = trbp.compute_energy_functional()\n",
    "  #print(\"z_trw:\\t\", z_trw)\n",
    "  #print( np.exp(trbp.var_beliefs[0]) ) \n",
    "\n",
    "  for var in mn.variables:\n",
    "      unary_belief = np.exp(trbp.var_beliefs[var])\n",
    "      if unary_belief[0] > unary_belief[1]:\n",
    "            y[var] = 1.0\n",
    "      else:\n",
    "            y[var] = 0.0\n",
    "\n",
    "  print(\"Error FTRW \\t\", t , 1- (np.sum(x ==y)/ grid_size) )\n",
    "  b.append(1- (np.sum(x ==y)/ grid_size))\n",
    "  a = np.reshape(y, (n,n))\n",
    "  cv2.imwrite(f'cameraFTRW{t}.png', a * 255)\n"
   ]
  },
  {
   "cell_type": "code",
   "execution_count": 5,
   "metadata": {},
   "outputs": [
    {
     "data": {
      "text/plain": [
       "[<matplotlib.lines.Line2D at 0x7a5b55c82ad0>]"
      ]
     },
     "execution_count": 5,
     "metadata": {},
     "output_type": "execute_result"
    },
    {
     "data": {
      "image/png": "[encoded data removed]",
      "text/plain": [
       "<Figure size 640x480 with 1 Axes>"
      ]
     },
     "metadata": {},
     "output_type": "display_data"
    }
   ],
   "source": [
    "plt.plot(tt,b)\n",
    "#plt.savefig('a.pdf')\n",
    "#plt.ylim(0.2, 0.5)"
   ]
  },
  {
   "cell_type": "code",
   "execution_count": 6,
   "metadata": {},
   "outputs": [],
   "source": [
    "#np.savetxt(\"j15.txt\", np.array(b))"
   ]
  },
  {
   "cell_type": "code",
   "execution_count": 7,
   "metadata": {},
   "outputs": [],
   "source": [
    "#j10 = np.loadtxt('j10.txt')\n",
    "#j15 = np.loadtxt('j15.txt')\n",
    "#j20 = np.loadtxt('j20.txt')\n",
    "#j25 = np.loadtxt('j25.txt')\n",
    "#j30 = np.loadtxt('j30.txt')\n",
    "#j35 = np.loadtxt('j35.txt')\n",
    "#j40 = np.loadtxt('j40.txt')\n",
    "#j45 = np.loadtxt('j45.txt')\n",
    "#j50 = np.loadtxt('j50.txt')"
   ]
  },
  {
   "cell_type": "code",
   "execution_count": 8,
   "metadata": {},
   "outputs": [],
   "source": [
    "#plt.plot(tt, j10, label='J=0.10')\n",
    "#plt.plot(tt, j15, label='J=0.15')\n",
    "#plt.plot(tt, j20, label='J=0.20')\n",
    "#plt.plot(tt, j25, label='J=0.25')\n",
    "#plt.plot(tt, j30, label='J=0.30')\n",
    "#plt.plot(tt, j35, label='J=0.35')\n",
    "#plt.plot(tt, j40, label='J=0.40')\n",
    "#plt.plot(tt, j45, label='J=0.45')\n",
    "#plt.plot(tt, j50, label='J=0.50')\n",
    "\n",
    "#plt.legend()\n",
    "#plt.show()\n"
   ]
  },
  {
   "cell_type": "code",
   "execution_count": null,
   "metadata": {},
   "outputs": [],
   "source": []
  }
 ],
 "metadata": {
  "kernelspec": {
   "display_name": "Python 3 (ipykernel)",
   "language": "python",
   "name": "python3"
  },
  "language_info": {
   "codemirror_mode": {
    "name": "ipython",
    "version": 3
   },
   "file_extension": ".py",
   "mimetype": "text/x-python",
   "name": "python",
   "nbconvert_exporter": "python",
   "pygments_lexer": "ipython3",
   "version": "3.11.4"
  }
 },
 "nbformat": 4,
 "nbformat_minor": 2
}
